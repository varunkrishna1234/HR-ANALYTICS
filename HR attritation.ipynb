{
 "cells": [
  {
   "cell_type": "code",
   "execution_count": 2,
   "id": "55c599e2",
   "metadata": {},
   "outputs": [],
   "source": [
    "import pandas as pd\n",
    "import numpy as np\n"
   ]
  },
  {
   "cell_type": "code",
   "execution_count": 3,
   "id": "2fd27247",
   "metadata": {},
   "outputs": [
    {
     "name": "stderr",
     "output_type": "stream",
     "text": [
      "<>:1: SyntaxWarning: invalid escape sequence '\\d'\n",
      "<>:1: SyntaxWarning: invalid escape sequence '\\d'\n",
      "C:\\Users\\kvaru\\AppData\\Local\\Temp\\ipykernel_27656\\569338432.py:1: SyntaxWarning: invalid escape sequence '\\d'\n",
      "  df = pd.read_csv(\"C:\\data analyst projects\\HR Analytics — Employee Attrition & Workforce Insights\\data\\HR-Employee-Attrition.csv\")\n"
     ]
    }
   ],
   "source": [
    "df = pd.read_csv(\"C:\\data analyst projects\\HR Analytics — Employee Attrition & Workforce Insights\\data\\HR-Employee-Attrition.csv\")\n"
   ]
  },
  {
   "cell_type": "code",
   "execution_count": 4,
   "id": "b663d050",
   "metadata": {},
   "outputs": [],
   "source": [
    "df = df.drop_duplicates()"
   ]
  },
  {
   "cell_type": "code",
   "execution_count": 5,
   "id": "600ec0ba",
   "metadata": {},
   "outputs": [],
   "source": [
    "df['TenureBand'] = pd.cut(df['YearsAtCompany'],\n",
    "                          bins=[-1,1,3,5,10,40],\n",
    "                          labels=['<1 yr','1-3 yrs','3-5 yrs','5-10 yrs','10+ yrs'])\n",
    "df['SalaryBand'] = pd.cut(df['MonthlyIncome'],\n",
    "                          bins=[0,3000,5000,8000,12000,1e9],\n",
    "                          labels=['<3k','3-5k','5-8k','8-12k','12k+'])\n",
    "df['AgeBand'] = pd.cut(df['Age'],\n",
    "                       bins=[17,25,35,45,55,100],\n",
    "                       labels=['18-25','26-35','36-45','46-55','55+'])"
   ]
  },
  {
   "cell_type": "code",
   "execution_count": 6,
   "id": "7baf51c3",
   "metadata": {},
   "outputs": [
    {
     "name": "stderr",
     "output_type": "stream",
     "text": [
      "<>:1: SyntaxWarning: invalid escape sequence '\\d'\n",
      "<>:1: SyntaxWarning: invalid escape sequence '\\d'\n",
      "C:\\Users\\kvaru\\AppData\\Local\\Temp\\ipykernel_27656\\1936984444.py:1: SyntaxWarning: invalid escape sequence '\\d'\n",
      "  df.to_csv(\"C:\\data analyst projects\\HR Analytics — Employee Attrition & Workforce Insights\\data\\hr_employees_clean.csv\", index=False)\n"
     ]
    }
   ],
   "source": [
    "df.to_csv(\"C:\\data analyst projects\\HR Analytics — Employee Attrition & Workforce Insights\\data\\hr_employees_clean.csv\", index=False)"
   ]
  },
  {
   "cell_type": "code",
   "execution_count": null,
   "id": "7a6403a2",
   "metadata": {},
   "outputs": [],
   "source": [
    "\n"
   ]
  }
 ],
 "metadata": {
  "kernelspec": {
   "display_name": "Python 3",
   "language": "python",
   "name": "python3"
  },
  "language_info": {
   "codemirror_mode": {
    "name": "ipython",
    "version": 3
   },
   "file_extension": ".py",
   "mimetype": "text/x-python",
   "name": "python",
   "nbconvert_exporter": "python",
   "pygments_lexer": "ipython3",
   "version": "3.13.2"
  }
 },
 "nbformat": 4,
 "nbformat_minor": 5
}
